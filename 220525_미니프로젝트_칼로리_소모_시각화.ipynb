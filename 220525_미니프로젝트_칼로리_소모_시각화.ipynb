{
  "nbformat": 4,
  "nbformat_minor": 0,
  "metadata": {
    "colab": {
      "name": "220525_미니프로젝트_칼로리 소모 시각화",
      "provenance": [],
      "authorship_tag": "ABX9TyMobReyDcyLu7dZ2v8hHh0m",
      "include_colab_link": true
    },
    "kernelspec": {
      "name": "python3",
      "display_name": "Python 3"
    },
    "language_info": {
      "name": "python"
    }
  },
  "cells": [
    {
      "cell_type": "markdown",
      "metadata": {
        "id": "view-in-github",
        "colab_type": "text"
      },
      "source": [
        "<a href=\"https://colab.research.google.com/github/realvoice98/BitAcademy_miniproject/blob/main/220525_%EB%AF%B8%EB%8B%88%ED%94%84%EB%A1%9C%EC%A0%9D%ED%8A%B8_%EC%B9%BC%EB%A1%9C%EB%A6%AC_%EC%86%8C%EB%AA%A8_%EC%8B%9C%EA%B0%81%ED%99%94.ipynb\" target=\"_parent\"><img src=\"https://colab.research.google.com/assets/colab-badge.svg\" alt=\"Open In Colab\"/></a>"
      ]
    },
    {
      "cell_type": "code",
      "execution_count": null,
      "metadata": {
        "colab": {
          "base_uri": "https://localhost:8080/",
          "height": 293
        },
        "id": "AMbESn7TGRhV",
        "outputId": "f4433739-8249-4c8f-cb8b-9313d5ae9830"
      },
      "outputs": [
        {
          "output_type": "display_data",
          "data": {
            "text/plain": [
              "<Figure size 432x288 with 1 Axes>"
            ],
            "image/png": "[encoded data removed]"
          },
          "metadata": {
            "needs_background": "light"
          }
        }
      ],
      "source": [
        "import matplotlib.pyplot as plt\n",
        "import random\n",
        "import numpy as np\n",
        "count = 20 # 시행한 턱걸이 수\n",
        "result = 0\n",
        "y_data = []\n",
        "x_data = []\n",
        "for i in range(count): #시행한 count만큼 반복횟수 증가\n",
        "    x_data.append(i)\n",
        "    y_data.append(result)\n",
        "    plt.fill_between(x_data[0:i], y_data[0:i], alpha=0.025,color='m')\n",
        "    result += np.random.rand()*17 # kcal 증가값 수정 요망\n",
        "plt.plot(x_data, y_data)\n",
        "plt.xlabel('count',labelpad = 15)\n",
        "plt.ylabel('burning kcal',labelpad =20)\n",
        "plt.grid(True)\n",
        "\n",
        "plt.show()"
      ]
    },
    {
      "cell_type": "markdown",
      "source": [
        "및 카운트 음성 따오기 완료"
      ],
      "metadata": {
        "id": "N5HYE5i5Gyn_"
      }
    },
    {
      "cell_type": "code",
      "source": [
        ""
      ],
      "metadata": {
        "id": "dEygxfEBGwMR"
      },
      "execution_count": null,
      "outputs": []
    }
  ]
}